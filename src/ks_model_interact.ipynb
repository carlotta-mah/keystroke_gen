{
 "cells": [
  {
   "cell_type": "markdown",
   "source": [
    "DISCLAIMER: You need to download and save the keystroke dataset in the data/Keystrokes folder. The dataset is not included in the repository due to its size. You can download the dataset from the following link: https://userinterfaces.aalto.fi/136Mkeystrokes/\n",
    "\n",
    "When you have downloaded and unzipped the dataset, you can run the following code to generate the datasets and train the model.\n",
    "------------------------------------------------------------------------------------"
   ],
   "metadata": {
    "collapsed": false
   },
   "id": "a3bfbacb93e0ddb"
  },
  {
   "cell_type": "markdown",
   "source": [
    "We first save the data in custom datasets. Each participant wrote 15 sentences. We take 10 of each participant to train the model. Only run this cell if you need to regenerate datasets, e.g. if you need more or fewer datasets.\n"
   ],
   "metadata": {
    "collapsed": false
   },
   "id": "587d7b971de7963d"
  },
  {
   "cell_type": "markdown",
   "source": [
    "Load the saved dataset and extract the features and target variable."
   ],
   "metadata": {
    "collapsed": false
   },
   "id": "5e4924fcbc7f3df9"
  },
  {
   "cell_type": "code",
   "outputs": [],
   "source": [
    "import src.data_processor as data_processor\n",
    "keystroke_df = data_processor.read_keystroke_data('../data/Keystrokes/files/*_keystrokes.txt', 1000)\n",
    "data_processor.save_keystroke_dataset(keystroke_df, 10)"
   ],
   "metadata": {
    "collapsed": true
   },
   "id": "initial_id",
   "execution_count": 0
  },
  {
   "cell_type": "markdown",
   "source": [
    "Get the share of data reserverd for training and testing."
   ],
   "metadata": {
    "collapsed": false
   },
   "id": "edaf2cedc62eec88"
  },
  {
   "cell_type": "code",
   "outputs": [],
   "source": [
    "import src.data_processor as data_processor\n",
    "# Load the dataset\n",
    "dataset = data_processor.get_train_data()\n",
    "\n",
    "# Extract features and target variable\n",
    "X = dataset.data  # Features\n",
    "y = dataset.labels  # Target labels "
   ],
   "metadata": {
    "collapsed": false,
    "ExecuteTime": {
     "end_time": "2024-02-24T16:04:15.958393Z",
     "start_time": "2024-02-24T16:04:15.945292Z"
    }
   },
   "id": "1c444bd18b6362a7",
   "execution_count": 18
  },
  {
   "cell_type": "markdown",
   "source": [
    "import the necessary libraries to split the dataset and encode the target variable."
   ],
   "metadata": {
    "collapsed": false
   },
   "id": "23d2d9421c9266fa"
  },
  {
   "cell_type": "code",
   "outputs": [],
   "source": [
    "from sklearn.model_selection import train_test_split\n",
    "from sklearn.preprocessing import LabelEncoder\n",
    "# Encode the target variable (PARTICIPANT_ID) using LabelEncoder\n",
    "label_encoder = LabelEncoder()\n",
    "y_encoded = data_processor.encode_participant_ids(label_encoder.fit_transform(y))\n",
    "\n",
    "# Split the dataset into training and testing sets\n",
    "X_train, X_test, y_train, y_test = train_test_split(X, y_encoded, test_size=0.2, random_state=42)\n"
   ],
   "metadata": {
    "collapsed": false,
    "ExecuteTime": {
     "end_time": "2024-02-24T16:04:18.757020Z",
     "start_time": "2024-02-24T16:04:18.710742Z"
    }
   },
   "id": "34b0b2ca2bb5273e",
   "execution_count": 19
  },
  {
   "cell_type": "markdown",
   "source": [
    "Train the neural network model. When running this, the trained model will be saved in the model.npy file.\n",
    "\n",
    "In each 100th epoch, we print the mean squared error of the model.\n",
    "Feel free to vary the hidden layers and the number of epochs or learning rate to see how the model performs."
   ],
   "metadata": {
    "collapsed": false
   },
   "id": "ec00d59ccdfc4026"
  },
  {
   "cell_type": "code",
   "outputs": [
    {
     "name": "stdout",
     "output_type": "stream",
     "text": [
      "Epoch 0, Loss: 3.567174623946248, Validation Loss: 0.9575873061572701\n",
      "Epoch 100, Loss: 0.01887288607760278, Validation Loss: 0.01851602199237564\n",
      "Epoch 200, Loss: 0.0013263061707897495, Validation Loss: 0.001319771284267535\n",
      "Epoch 300, Loss: 0.0010049936227058808, Validation Loss: 0.0010048739560214865\n",
      "Epoch 400, Loss: 0.0009991097550744422, Validation Loss: 0.0009991075637410033\n",
      "Epoch 500, Loss: 0.0009990020098322762, Validation Loss: 0.000999001969704631\n",
      "Epoch 600, Loss: 0.0009990000368040003, Validation Loss: 0.0009990000360691862\n",
      "Epoch 700, Loss: 0.000999000000673954, Validation Loss: 0.0009990000006604982\n",
      "Epoch 800, Loss: 0.0009990000000123414, Validation Loss: 0.0009990000000120944\n",
      "Epoch 900, Loss: 0.000999000000000226, Validation Loss: 0.0009990000000002206\n"
     ]
    },
    {
     "data": {
      "text/plain": "<Figure size 640x480 with 1 Axes>",
      "image/png": "[encoded data removed]"
     },
     "metadata": {},
     "output_type": "display_data"
    },
    {
     "name": "stdout",
     "output_type": "stream",
     "text": [
      "Test error:  0.0009989999999999953\n"
     ]
    }
   ],
   "source": [
    "import numpy as np\n",
    "from neural_network import NeuralNetwork\n",
    "# Initialize and train the neural network model\n",
    "layers = [X_train.shape[1], 1, len(label_encoder.classes_)]\n",
    "nn = NeuralNetwork(layer_structure=layers, learning_rate=0.0001, activation='relu')\n",
    "nn.train(X_train, y_train, epochs=1000)\n",
    "\n",
    "# Get predictions and calculate the mean squared error\n",
    "y_pred = nn.get_prediction(X_test)\n",
    "nn.plot_learning()\n",
    "print(\"Test error: \",  np.average(np.average((y_test - y_pred) ** 2, axis=0)))   \n"
   ],
   "metadata": {
    "collapsed": false,
    "ExecuteTime": {
     "end_time": "2024-02-24T16:20:51.029748Z",
     "start_time": "2024-02-24T16:18:24.522402Z"
    }
   },
   "id": "a1f2959127fbc2e1",
   "execution_count": 24
  },
  {
   "cell_type": "markdown",
   "source": [
    "In the following cell, we load the trained model and use it to predict the participant ID of 10 random sentences. \n",
    "We print the predicted and true participant IDs. You can choose one and get the models prediction in the next cell."
   ],
   "metadata": {
    "collapsed": false
   },
   "id": "126416defece2d10"
  },
  {
   "cell_type": "code",
   "outputs": [
    {
     "name": "stdout",
     "output_type": "stream",
     "text": [
      "Index:4732, Participant ID: 490337, Keystroke features: [ 1.38765272e-09  5.96090950e-09 -3.41918149e-09  3.60003911e-08\n",
      "  3.84119754e-08  3.40108186e-08  1.00792603e-08  1.80598252e-07\n",
      " -1.07608897e+00  1.80000000e+01]\n",
      "Index:1710, Participant ID: 171927, Keystroke features: [-1.52235284e-09  2.51418281e-09 -6.13790452e-09  8.01448143e-09\n",
      "  1.49945011e-08  6.19411548e-08  1.93300882e-09  6.62331664e-07\n",
      " -1.07608897e+00  2.30000000e+01]\n",
      "Index:3598, Participant ID: 375002, Keystroke features: [ 9.30452047e-10  1.13585981e-08 -5.56879701e-09  7.26490240e-08\n",
      "  1.03419339e-08  1.17161322e-08  2.41626100e-09  7.37995152e-08\n",
      " -1.07608897e+00  2.10000000e+01]\n",
      "Index:867, Participant ID: 86862, Keystroke features: [-1.37148741e-09  2.48148472e-09 -6.48978649e-09  8.76717593e-09\n",
      "  1.32697110e-08  1.24441475e-08  2.83047719e-09  6.26847145e-08\n",
      " -5.44420677e-02  1.90000000e+01]\n",
      "Index:3217, Participant ID: 329386, Keystroke features: [-1.09894673e-09  1.55761560e-09 -4.46790495e-09  1.05497738e-09\n",
      "  5.17770219e-09  1.44655215e-09  2.20915293e-09  7.73203526e-09\n",
      "  6.93939211e-02  1.20000000e+01]\n",
      "Index:4704, Participant ID: 487765, Keystroke features: [-9.69716311e-10  1.90172694e-09 -3.76456200e-09  4.31265340e-09\n",
      "  1.65180206e-08  1.18304194e-08  4.28023378e-09  6.12349579e-08\n",
      " -1.07608897e+00  1.50000000e+01]\n",
      "Index:4312, Participant ID: 452028, Keystroke features: [ 6.77404672e-10  2.87932282e-09 -3.97456162e-09  9.07324788e-09\n",
      "  2.53144219e-08  4.38304453e-08  2.83047719e-09  2.58332821e-07\n",
      " -1.07608897e+00  2.30000000e+01]\n",
      "Index:3237, Participant ID: 330211, Keystroke features: [ 3.39930684e-09  2.20872789e-08 -4.95108339e-09  2.11545904e-07\n",
      "  1.72882726e-08  1.68737217e-08  4.41830586e-09  1.19294258e-07\n",
      " -1.07608897e+00  2.20000000e+01]\n",
      "Index:2231, Participant ID: 223491, Keystroke features: [-1.34355353e-10  1.75419990e-09 -6.13302650e-09  2.22033293e-09\n",
      "  3.81347354e-08  2.49903554e-08  7.87010732e-09  1.11976439e-07\n",
      " -1.81910491e+00  1.60000000e+01]\n",
      "Index:1614, Participant ID: 166314, Keystroke features: [ 2.36964993e-10  5.84430102e-09 -8.14065045e-09  3.12098862e-08\n",
      "  2.45940854e-08  1.72002218e-08  1.38072054e-10  9.47864680e-08\n",
      "  6.93939211e-02  1.70000000e+01]\n"
     ]
    }
   ],
   "source": [
    "import src.data_processor as data_processor\n",
    "from neural_network import NeuralNetwork\n",
    "from sklearn.preprocessing import LabelEncoder\n",
    "import numpy as np\n",
    "\n",
    "# load the model\n",
    "nn = NeuralNetwork(file='model.npy', layer_structure=None)\n",
    "\n",
    "# Encode the target variable (PARTICIPANT_ID) using LabelEncoder\n",
    "label_encoder = LabelEncoder()\n",
    "unseen_data = data_processor.get_classify_data()\n",
    "unseen_y = unseen_data.labels\n",
    "unseen_y_encoded = data_processor.encode_participant_ids(label_encoder.fit_transform(unseen_y))\n",
    "unseen_X = unseen_data.data\n",
    "\n",
    "indices = np.random.choice(unseen_X.shape[0], 10, replace=False)\n",
    "for i in indices:\n",
    "    print(f\"Index:{i}, Participant ID: {unseen_y[i]}, Keystroke features: {unseen_X[i]}\")\n",
    "# generate random indices\n",
    "# print sentences and participant ids\n",
    "\n",
    "# show 10 participants with their sentences. User selects one that is predicted by model"
   ],
   "metadata": {
    "collapsed": false,
    "ExecuteTime": {
     "end_time": "2024-02-24T16:00:23.459762Z",
     "start_time": "2024-02-24T16:00:23.420423Z"
    }
   },
   "id": "dcc96ec2247b5477",
   "execution_count": 9
  },
  {
   "cell_type": "code",
   "outputs": [
    {
     "name": "stdout",
     "output_type": "stream",
     "text": [
      "Predicted participant ID: [1057], True participant ID: 166314\n"
     ]
    }
   ],
   "source": [
    "index = 1614\n",
    "pred, _ = nn.forward(unseen_X[index])\n",
    "print(f\"Predicted participant ID: {label_encoder.inverse_transform([np.argmax(pred)])}, True participant ID: {unseen_y[index]}\")"
   ],
   "metadata": {
    "collapsed": false,
    "ExecuteTime": {
     "end_time": "2024-02-24T16:03:37.221869Z",
     "start_time": "2024-02-24T16:03:37.217844Z"
    }
   },
   "id": "ba84e153744dbf64",
   "execution_count": 15
  }
 ],
 "metadata": {
  "kernelspec": {
   "display_name": "Python 3",
   "language": "python",
   "name": "python3"
  },
  "language_info": {
   "codemirror_mode": {
    "name": "ipython",
    "version": 2
   },
   "file_extension": ".py",
   "mimetype": "text/x-python",
   "name": "python",
   "nbconvert_exporter": "python",
   "pygments_lexer": "ipython2",
   "version": "2.7.6"
  }
 },
 "nbformat": 4,
 "nbformat_minor": 5
}
